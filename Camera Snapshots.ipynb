{
 "cells": [
  {
   "cell_type": "code",
   "execution_count": 1,
   "metadata": {},
   "outputs": [
    {
     "name": "stdout",
     "output_type": "stream",
     "text": [
      "Click Space Bar to capture image\n",
      "Click Esc button to stop clicking the images\n",
      "Space Bar Clicked : click_0.jpg Saved!\n",
      "Space Bar Clicked : click_1.jpg Saved!\n",
      "Escape Clicked, closing...\n"
     ]
    }
   ],
   "source": [
    "import cv2\n",
    "\n",
    "cap = cv2.VideoCapture(0)\n",
    "\n",
    "img_counter = 0\n",
    "print(\"Click Space Bar to capture image\")\n",
    "print(\"Click Esc button to stop clicking the images\")\n",
    "\n",
    "while True:\n",
    "    ret, frame = cap.read()\n",
    "    if not ret:\n",
    "        print(\"failed to grab frame\")\n",
    "        break\n",
    "    cv2.imshow(\"Capture\", frame)\n",
    "\n",
    "    c = cv2.waitKey(1)\n",
    "    if c == 27:\n",
    "        # ESC pressed\n",
    "        print(\"Escape Clicked, closing...\")\n",
    "        cv2.destroyAllWindows()\n",
    "        break\n",
    "    elif c == 32:\n",
    "        # SPACE pressed\n",
    "        img_name = f\"click_{img_counter}.jpg\"\n",
    "        cv2.imwrite(img_name, frame)\n",
    "        print(f\"Space Bar Clicked : {img_name} Saved!\")\n",
    "        img_counter += 1\n",
    "\n",
    "cap.release()"
   ]
  },
  {
   "cell_type": "code",
   "execution_count": null,
   "metadata": {},
   "outputs": [],
   "source": []
  }
 ],
 "metadata": {
  "kernelspec": {
   "display_name": "Python 3",
   "language": "python",
   "name": "python3"
  },
  "language_info": {
   "codemirror_mode": {
    "name": "ipython",
    "version": 3
   },
   "file_extension": ".py",
   "mimetype": "text/x-python",
   "name": "python",
   "nbconvert_exporter": "python",
   "pygments_lexer": "ipython3",
   "version": "3.8.2"
  }
 },
 "nbformat": 4,
 "nbformat_minor": 4
}
